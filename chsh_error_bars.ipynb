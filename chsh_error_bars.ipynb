{
 "cells": [
  {
   "cell_type": "markdown",
   "metadata": {
    "id": "5fowUOOru7-6"
   },
   "source": []
  },
  {
   "cell_type": "code",
   "execution_count": null,
   "metadata": {
    "id": "QfAAFbnJG_jl"
   },
   "outputs": [],
   "source": [
    "import logging\n",
    "import matplotlib\n",
    "import matplotlib.pyplot as plt\n",
    "import numpy as np\n",
    "from itertools import product\n",
    "from qibo.gates import M, RY, CZ, I, H\n",
    "from qibo.models import Circuit\n",
    "from qiboconnection.api import API\n",
    "from qiboconnection.connection import ConnectionConfiguration\n",
    "from scipy import stats\n",
    "from time import sleep\n",
    "from google.colab import userdata\n",
    "\n",
    "\n",
    "api = API(ConnectionConfiguration(username=userdata.get('user'), api_key=userdata.get('api-key')))\n",
    "\n",
    "\n",
    "api.select_device_id(9)\n",
    "\n",
    "logger = logging.getLogger()\n",
    "handler = logging.StreamHandler()\n",
    "formatter = logging.Formatter(\n",
    "        '%(asctime)s %(name)-12s %(levelname)-8s %(message)s')\n",
    "handler.setFormatter(formatter)\n",
    "logger.addHandler(handler)\n",
    "logger.setLevel(logging.ERROR)"
   ]
  },
  {
   "cell_type": "markdown",
   "metadata": {
    "id": "AGqRdEHsNJob"
   },
   "source": [
    "### Experiment Parameters"
   ]
  },
  {
   "cell_type": "code",
   "execution_count": null,
   "metadata": {
    "id": "S7jdwGOXNI45"
   },
   "outputs": [],
   "source": [
    "CONTROL_QUBIT = 0\n",
    "TARGET_QUBIT = 2\n",
    "THETA_VALUES = np.linspace(-np.pi, np.pi, num=20)\n",
    "BELL_STATE = \"phi_plus\" # phi_plus, phi_minus, psi_plus, psi_minus\n",
    "\n",
    "NUM_SHOTS = 8000\n",
    "\n",
    "LOAD_RESULTS = False\n",
    "mfidelity_qc = 0.862 # measurement fidelity control qubit\n",
    "mfidelity_qt = 0.862 # measurement fidelity target qubit"
   ]
  },
  {
   "cell_type": "markdown",
   "metadata": {
    "id": "bRQ9-F86NM3D"
   },
   "source": [
    "### Circuit - witness definition"
   ]
  },
  {
   "cell_type": "markdown",
   "metadata": {
    "id": "MGjnDEujG_jr"
   },
   "source": [
    "### Build circuits for CHSH\n",
    "\n"
   ]
  },
  {
   "cell_type": "code",
   "execution_count": null,
   "metadata": {
    "id": "v_PTWmRaG_jo"
   },
   "outputs": [],
   "source": [
    "def get_chsh_circuits(bell_state, control_qubit, target_qubit, theta):\n",
    "    assert bell_state in (\n",
    "        \"phi_plus\",\n",
    "        \"phi_minus\",\n",
    "        \"psi_plus\",\n",
    "        \"psi_minus\",\n",
    "    ), \"bell_state should be phi_plus, phi_minus, psi_plus, psi_minus\"\n",
    "    nqubits = max(control_qubit, target_qubit) + 1\n",
    "\n",
    "    circuits = []\n",
    "    for gate_a, gate_b in product([I, H], repeat=2):\n",
    "        circuit = Circuit(nqubits)\n",
    "\n",
    "        if bell_state == \"phi_plus\" or bell_state == \"psi_minus\":\n",
    "            G1 = RY(control_qubit, theta=-np.pi / 2)\n",
    "        else:\n",
    "            G1 = RY(control_qubit, theta=np.pi / 2)\n",
    "        if bell_state == \"phi_plus\" or bell_state == \"phi_minus\":\n",
    "            G2_prime = RY(target_qubit, theta=-np.pi / 2)\n",
    "        else:\n",
    "            G2_prime = RY(target_qubit, theta=np.pi / 2)\n",
    "        ## build bell state\n",
    "        circuit.add(G1)\n",
    "        circuit.add(RY(target_qubit, theta=np.pi / 2))\n",
    "        circuit.add(CZ(control_qubit, target_qubit))\n",
    "        circuit.add(G2_prime)\n",
    "\n",
    "        ## decoder part\n",
    "        circuit.add(RY(control_qubit, theta=theta))\n",
    "        circuit.add(gate_a(control_qubit))\n",
    "        circuit.add(gate_b(target_qubit))\n",
    "        circuit.add(M(control_qubit, target_qubit))\n",
    "\n",
    "        circuits.append(circuit)\n",
    "\n",
    "    return circuits\n",
    "\n",
    "def compute_witnesses(chsh_results, BELL_STATE, ea=1, eb=1, raw=False):\n",
    "    \"\"\"Returns arrays of computed witness values.\n",
    "\n",
    "    Args:\n",
    "        chsh_results (array): matrix containing the probabilities the chsh circuits. It must be\n",
    "                        of dimensions len(theta_values) x 4 (decoder circuits) x 4 (probabilities)\n",
    "        measurement_calibration_weights (array): measurement calibration matrix.\n",
    "        BELL_STATE (string): can be \"phi_plus\", \"phi_minus\", \"psi_plus\" or \"psi_minus\". It needs\n",
    "                            to be specified because the witness isn't the same for all 4 Bell states.\n",
    "        raw (bool): whether or not calculate the witnesses from the raw data instead of applying the\n",
    "                    measurement corrections. Defaults to False.\n",
    "    Returns:\n",
    "        witness1 (array): array length len(theta_values) containing the first witness\n",
    "        witness2 (array): array length len(theta_values) containing the second witness\n",
    "    \"\"\"\n",
    "    len_theta_values = np.shape(chsh_results)[0]\n",
    "    witness1 = np.zeros(len_theta_values)\n",
    "    witness2 = np.zeros(len_theta_values)\n",
    "\n",
    "    e_m = np.array([[ea*eb, ea*(1-eb), eb*(1-ea), (1-ea)*(1-eb)],\n",
    "                    [ea*(1-eb), ea*eb, (1-ea)*(1-eb), eb*(1-ea)],\n",
    "                    [eb*(1-ea), (1-ea)*(1-eb), ea*eb, ea*(1-eb)],\n",
    "                    [(1-ea)*(1-eb), ea*(1-eb), eb*(1-ea), ea*eb]])\n",
    "\n",
    "    if BELL_STATE in [\"phi_plus\", \"psi_minus\"]:\n",
    "        signs1 = np.array([1, 1, -1, 1])\n",
    "        signs2 = np.array([1, -1, 1, 1])\n",
    "    else:\n",
    "        signs1 = np.array([-1, 1, 1, 1])\n",
    "        signs2 = np.array([1, 1, 1, -1])\n",
    "\n",
    "    for i, chsh_result in enumerate(chsh_results):\n",
    "        if raw is not True:\n",
    "            # apply measurement calibration\n",
    "            # chsh_result = measurement_calibration_weights @ chsh_result.T\n",
    "            chsh_result = chsh_result @  np.linalg.inv(e_m)\n",
    "\n",
    "        # calculate expectation values from probabilities\n",
    "        expectations = chsh_result @ np.array([1, -1, -1, 1])\n",
    "        # compute witnesses\n",
    "        witness1[i] = signs1.T @ expectations\n",
    "        witness2[i] = signs2.T @ expectations\n",
    "    return witness1, witness2"
   ]
  },
  {
   "cell_type": "code",
   "execution_count": null,
   "metadata": {
    "id": "RTQQZPpWG_jt"
   },
   "outputs": [],
   "source": [
    "all_circuits = []\n",
    "for theta in THETA_VALUES:\n",
    "    circuits_th = get_chsh_circuits(BELL_STATE, CONTROL_QUBIT, TARGET_QUBIT, theta)\n",
    "    all_circuits.extend(circuits_th)"
   ]
  },
  {
   "cell_type": "markdown",
   "metadata": {
    "id": "t-D08abQG_ju"
   },
   "source": [
    "### Run circuits"
   ]
  },
  {
   "cell_type": "code",
   "execution_count": null,
   "metadata": {
    "id": "c2ShBCqtG_jv"
   },
   "outputs": [],
   "source": [
    "result_id = 9599\n",
    "\n",
    "if LOAD_RESULTS is False:\n",
    "  result_id = api.execute(all_circuits,\n",
    "                          nshots=NUM_SHOTS,\n",
    "                          name=f\"chsh_q{CONTROL_QUBIT}{TARGET_QUBIT}\",\n",
    "                          summary=\"chsh demo for the APS march meeting\")[0]"
   ]
  },
  {
   "cell_type": "markdown",
   "metadata": {
    "id": "bXKuOXGuOHxT"
   },
   "source": [
    "### Wait until execution has finished"
   ]
  },
  {
   "cell_type": "code",
   "execution_count": null,
   "metadata": {
    "colab": {
     "base_uri": "https://localhost:8080/"
    },
    "id": "EnckpT-pG_jv",
    "outputId": "61793afc-8b28-43b1-cf74-fd2b6e45d2f7"
   },
   "outputs": [
    {
     "name": "stderr",
     "output_type": "stream",
     "text": [
      "ERROR:qiboconnection.config:{\n",
      "  \"title\": \"Unauthorized\",\n",
      "  \"status\": 401,\n",
      "  \"detail\": \"JWTExpired: Error verifying the authorisation access token. Expired at 1709557189, time: 1709557250(leeway: 60) 401 Client Error:  for url: https://qilimanjaroqaas.ddns.net:8080/api/v1/jobs/9601\"\n",
      "}\n",
      "2024-03-04 13:00:50,700 qiboconnection.config ERROR    {\n",
      "  \"title\": \"Unauthorized\",\n",
      "  \"status\": 401,\n",
      "  \"detail\": \"JWTExpired: Error verifying the authorisation access token. Expired at 1709557189, time: 1709557250(leeway: 60) 401 Client Error:  for url: https://qilimanjaroqaas.ddns.net:8080/api/v1/jobs/9601\"\n",
      "}\n",
      "ERROR:qiboconnection.config:{\"title\":\"Unauthorized\",\"status\":401,\"detail\":\"JWTExpired: Error verifying the authorisation access token. Expired at 1709557189, time: 1709557250(leeway: 60)\"}\n",
      "\n",
      "2024-03-04 13:00:50,704 qiboconnection.config ERROR    {\"title\":\"Unauthorized\",\"status\":401,\"detail\":\"JWTExpired: Error verifying the authorisation access token. Expired at 1709557189, time: 1709557250(leeway: 60)\"}\n",
      "\n"
     ]
    },
    {
     "data": {
      "text/plain": [
       "[{'probabilities': {'00': 0.313875,\n",
       "   '01': 0.1955,\n",
       "   '10': 0.2695,\n",
       "   '11': 0.221125}},\n",
       " {'probabilities': {'00': 0.22825,\n",
       "   '01': 0.283625,\n",
       "   '10': 0.272125,\n",
       "   '11': 0.216}},\n",
       " {'probabilities': {'00': 0.283875, '01': 0.23, '10': 0.264625, '11': 0.2215}},\n",
       " {'probabilities': {'00': 0.1045,\n",
       "   '01': 0.404375,\n",
       "   '10': 0.40075,\n",
       "   '11': 0.090375}},\n",
       " {'probabilities': {'00': 0.186,\n",
       "   '01': 0.3265,\n",
       "   '10': 0.356375,\n",
       "   '11': 0.131125}},\n",
       " {'probabilities': {'00': 0.31475, '01': 0.22125, '10': 0.1965, '11': 0.2675}},\n",
       " {'probabilities': {'00': 0.2455,\n",
       "   '01': 0.267125,\n",
       "   '10': 0.29675,\n",
       "   '11': 0.190625}},\n",
       " {'probabilities': {'00': 0.11075,\n",
       "   '01': 0.391375,\n",
       "   '10': 0.39925,\n",
       "   '11': 0.098625}},\n",
       " {'probabilities': {'00': 0.205625,\n",
       "   '01': 0.30875,\n",
       "   '10': 0.338125,\n",
       "   '11': 0.1475}},\n",
       " {'probabilities': {'00': 0.351625,\n",
       "   '01': 0.179625,\n",
       "   '10': 0.1575,\n",
       "   '11': 0.31125}},\n",
       " {'probabilities': {'00': 0.214, '01': 0.282, '10': 0.3355, '11': 0.1685}},\n",
       " {'probabilities': {'00': 0.131, '01': 0.3645, '10': 0.3805, '11': 0.124}},\n",
       " {'probabilities': {'00': 0.21425,\n",
       "   '01': 0.299625,\n",
       "   '10': 0.336375,\n",
       "   '11': 0.14975}},\n",
       " {'probabilities': {'00': 0.3845, '01': 0.1515, '10': 0.12275, '11': 0.34125}},\n",
       " {'probabilities': {'00': 0.203375,\n",
       "   '01': 0.294625,\n",
       "   '10': 0.35725,\n",
       "   '11': 0.14475}},\n",
       " {'probabilities': {'00': 0.1665,\n",
       "   '01': 0.34475,\n",
       "   '10': 0.338625,\n",
       "   '11': 0.150125}},\n",
       " {'probabilities': {'00': 0.244875,\n",
       "   '01': 0.272,\n",
       "   '10': 0.30075,\n",
       "   '11': 0.182375}},\n",
       " {'probabilities': {'00': 0.4125,\n",
       "   '01': 0.13075,\n",
       "   '10': 0.098125,\n",
       "   '11': 0.358625}},\n",
       " {'probabilities': {'00': 0.185125,\n",
       "   '01': 0.31425,\n",
       "   '10': 0.36025,\n",
       "   '11': 0.140375}},\n",
       " {'probabilities': {'00': 0.199375,\n",
       "   '01': 0.30375,\n",
       "   '10': 0.301375,\n",
       "   '11': 0.1955}},\n",
       " {'probabilities': {'00': 0.267125,\n",
       "   '01': 0.246625,\n",
       "   '10': 0.28125,\n",
       "   '11': 0.205}},\n",
       " {'probabilities': {'00': 0.402625,\n",
       "   '01': 0.13425,\n",
       "   '10': 0.09575,\n",
       "   '11': 0.367375}},\n",
       " {'probabilities': {'00': 0.184375,\n",
       "   '01': 0.318,\n",
       "   '10': 0.3695,\n",
       "   '11': 0.128125}},\n",
       " {'probabilities': {'00': 0.25475,\n",
       "   '01': 0.256125,\n",
       "   '10': 0.250375,\n",
       "   '11': 0.23875}},\n",
       " {'probabilities': {'00': 0.31375,\n",
       "   '01': 0.220375,\n",
       "   '10': 0.237125,\n",
       "   '11': 0.22875}},\n",
       " {'probabilities': {'00': 0.38975,\n",
       "   '01': 0.135,\n",
       "   '10': 0.105125,\n",
       "   '11': 0.370125}},\n",
       " {'probabilities': {'00': 0.182, '01': 0.317875, '10': 0.368, '11': 0.132125}},\n",
       " {'probabilities': {'00': 0.302,\n",
       "   '01': 0.211375,\n",
       "   '10': 0.200375,\n",
       "   '11': 0.28625}},\n",
       " {'probabilities': {'00': 0.3265, '01': 0.208, '10': 0.21575, '11': 0.24975}},\n",
       " {'probabilities': {'00': 0.377125,\n",
       "   '01': 0.157625,\n",
       "   '10': 0.12525,\n",
       "   '11': 0.34}},\n",
       " {'probabilities': {'00': 0.204625,\n",
       "   '01': 0.29625,\n",
       "   '10': 0.342125,\n",
       "   '11': 0.157}},\n",
       " {'probabilities': {'00': 0.3415, '01': 0.17875, '10': 0.15525, '11': 0.3245}},\n",
       " {'probabilities': {'00': 0.34425,\n",
       "   '01': 0.184,\n",
       "   '10': 0.205375,\n",
       "   '11': 0.266375}},\n",
       " {'probabilities': {'00': 0.33425,\n",
       "   '01': 0.205375,\n",
       "   '10': 0.162,\n",
       "   '11': 0.298375}},\n",
       " {'probabilities': {'00': 0.217375,\n",
       "   '01': 0.282375,\n",
       "   '10': 0.32975,\n",
       "   '11': 0.1705}},\n",
       " {'probabilities': {'00': 0.3855, '01': 0.13975, '10': 0.12, '11': 0.35475}},\n",
       " {'probabilities': {'00': 0.36475,\n",
       "   '01': 0.175875,\n",
       "   '10': 0.188625,\n",
       "   '11': 0.27075}},\n",
       " {'probabilities': {'00': 0.2935,\n",
       "   '01': 0.245625,\n",
       "   '10': 0.209875,\n",
       "   '11': 0.251}},\n",
       " {'probabilities': {'00': 0.248875,\n",
       "   '01': 0.25975,\n",
       "   '10': 0.302,\n",
       "   '11': 0.189375}},\n",
       " {'probabilities': {'00': 0.395, '01': 0.09775, '10': 0.116, '11': 0.39125}},\n",
       " {'probabilities': {'00': 0.3705,\n",
       "   '01': 0.140125,\n",
       "   '10': 0.197375,\n",
       "   '11': 0.292}},\n",
       " {'probabilities': {'00': 0.254375,\n",
       "   '01': 0.262875,\n",
       "   '10': 0.260375,\n",
       "   '11': 0.222375}},\n",
       " {'probabilities': {'00': 0.280125,\n",
       "   '01': 0.215625,\n",
       "   '10': 0.281875,\n",
       "   '11': 0.222375}},\n",
       " {'probabilities': {'00': 0.409375,\n",
       "   '01': 0.094125,\n",
       "   '10': 0.110875,\n",
       "   '11': 0.385625}},\n",
       " {'probabilities': {'00': 0.38475,\n",
       "   '01': 0.143375,\n",
       "   '10': 0.19725,\n",
       "   '11': 0.274625}},\n",
       " {'probabilities': {'00': 0.202625,\n",
       "   '01': 0.318375,\n",
       "   '10': 0.3045,\n",
       "   '11': 0.1745}},\n",
       " {'probabilities': {'00': 0.315375,\n",
       "   '01': 0.1905,\n",
       "   '10': 0.249875,\n",
       "   '11': 0.24425}},\n",
       " {'probabilities': {'00': 0.402375,\n",
       "   '01': 0.113625,\n",
       "   '10': 0.1165,\n",
       "   '11': 0.3675}},\n",
       " {'probabilities': {'00': 0.359625,\n",
       "   '01': 0.152,\n",
       "   '10': 0.209125,\n",
       "   '11': 0.27925}},\n",
       " {'probabilities': {'00': 0.16175,\n",
       "   '01': 0.347625,\n",
       "   '10': 0.3525,\n",
       "   '11': 0.138125}},\n",
       " {'probabilities': {'00': 0.3435, '01': 0.16125, '10': 0.229, '11': 0.26625}},\n",
       " {'probabilities': {'00': 0.3665,\n",
       "   '01': 0.140875,\n",
       "   '10': 0.140375,\n",
       "   '11': 0.35225}},\n",
       " {'probabilities': {'00': 0.333,\n",
       "   '01': 0.179125,\n",
       "   '10': 0.2485,\n",
       "   '11': 0.239375}},\n",
       " {'probabilities': {'00': 0.15775,\n",
       "   '01': 0.347375,\n",
       "   '10': 0.401375,\n",
       "   '11': 0.0935}},\n",
       " {'probabilities': {'00': 0.379125,\n",
       "   '01': 0.151,\n",
       "   '10': 0.23125,\n",
       "   '11': 0.238625}},\n",
       " {'probabilities': {'00': 0.3455,\n",
       "   '01': 0.187125,\n",
       "   '10': 0.203125,\n",
       "   '11': 0.26425}},\n",
       " {'probabilities': {'00': 0.325625,\n",
       "   '01': 0.19675,\n",
       "   '10': 0.277,\n",
       "   '11': 0.200625}},\n",
       " {'probabilities': {'00': 0.1335, '01': 0.37075, '10': 0.42275, '11': 0.073}},\n",
       " {'probabilities': {'00': 0.3835,\n",
       "   '01': 0.137375,\n",
       "   '10': 0.220875,\n",
       "   '11': 0.25825}},\n",
       " {'probabilities': {'00': 0.29775,\n",
       "   '01': 0.22825,\n",
       "   '10': 0.24775,\n",
       "   '11': 0.22625}},\n",
       " {'probabilities': {'00': 0.2875,\n",
       "   '01': 0.225125,\n",
       "   '10': 0.302875,\n",
       "   '11': 0.1845}},\n",
       " {'probabilities': {'00': 0.14725,\n",
       "   '01': 0.354625,\n",
       "   '10': 0.411875,\n",
       "   '11': 0.08625}},\n",
       " {'probabilities': {'00': 0.383125,\n",
       "   '01': 0.1375,\n",
       "   '10': 0.214,\n",
       "   '11': 0.265375}},\n",
       " {'probabilities': {'00': 0.253625,\n",
       "   '01': 0.25875,\n",
       "   '10': 0.294125,\n",
       "   '11': 0.1935}},\n",
       " {'probabilities': {'00': 0.262125,\n",
       "   '01': 0.244,\n",
       "   '10': 0.329625,\n",
       "   '11': 0.16425}},\n",
       " {'probabilities': {'00': 0.1155, '01': 0.39525, '10': 0.3845, '11': 0.10475}},\n",
       " {'probabilities': {'00': 0.371125,\n",
       "   '01': 0.16925,\n",
       "   '10': 0.1755,\n",
       "   '11': 0.284125}},\n",
       " {'probabilities': {'00': 0.173625,\n",
       "   '01': 0.338125,\n",
       "   '10': 0.313625,\n",
       "   '11': 0.174625}},\n",
       " {'probabilities': {'00': 0.2025,\n",
       "   '01': 0.3075,\n",
       "   '10': 0.327875,\n",
       "   '11': 0.162125}},\n",
       " {'probabilities': {'00': 0.14925, '01': 0.36, '10': 0.35325, '11': 0.1375}},\n",
       " {'probabilities': {'00': 0.344375,\n",
       "   '01': 0.179125,\n",
       "   '10': 0.198125,\n",
       "   '11': 0.278375}},\n",
       " {'probabilities': {'00': 0.1365, '01': 0.37275, '10': 0.3585, '11': 0.13225}},\n",
       " {'probabilities': {'00': 0.19325,\n",
       "   '01': 0.31025,\n",
       "   '10': 0.348375,\n",
       "   '11': 0.148125}},\n",
       " {'probabilities': {'00': 0.187875,\n",
       "   '01': 0.322125,\n",
       "   '10': 0.313125,\n",
       "   '11': 0.176875}},\n",
       " {'probabilities': {'00': 0.313125,\n",
       "   '01': 0.207,\n",
       "   '10': 0.22425,\n",
       "   '11': 0.255625}},\n",
       " {'probabilities': {'00': 0.10675,\n",
       "   '01': 0.393875,\n",
       "   '10': 0.39325,\n",
       "   '11': 0.106125}},\n",
       " {'probabilities': {'00': 0.179375,\n",
       "   '01': 0.329125,\n",
       "   '10': 0.360125,\n",
       "   '11': 0.131375}},\n",
       " {'probabilities': {'00': 0.241375,\n",
       "   '01': 0.267125,\n",
       "   '10': 0.26525,\n",
       "   '11': 0.22625}},\n",
       " {'probabilities': {'00': 0.2825,\n",
       "   '01': 0.233,\n",
       "   '10': 0.253625,\n",
       "   '11': 0.230875}},\n",
       " {'probabilities': {'00': 0.094125,\n",
       "   '01': 0.404875,\n",
       "   '10': 0.41025,\n",
       "   '11': 0.09075}}]"
      ]
     },
     "execution_count": 7,
     "metadata": {},
     "output_type": "execute_result"
    }
   ],
   "source": [
    "results = None\n",
    "while results is None:\n",
    "    results = api.get_result(result_id)\n",
    "    sleep(1)\n",
    "results"
   ]
  },
  {
   "cell_type": "markdown",
   "metadata": {
    "id": "Q4VLKkfgOSnc"
   },
   "source": [
    "### Data Formatting"
   ]
  },
  {
   "cell_type": "code",
   "execution_count": null,
   "metadata": {
    "id": "Omi4_XfPNfEA"
   },
   "outputs": [],
   "source": [
    "def get_basis_elements_dict(nqubits):\n",
    "    basis_elements = {}\n",
    "    for i, x in enumerate(product(['0', '1'], repeat = nqubits)):\n",
    "        basis_elements[''.join(x)] = i\n",
    "    return basis_elements\n",
    "\n",
    "def process_returned_dataformat(results, nqubits=2):\n",
    "    \"\"\"Organises the results returned by qiboconnection into a matrix.\n",
    "\n",
    "    Args:\n",
    "        results (list): list of result objects returned by qiboconnection\n",
    "        nqubits (int, optional): number of qubits. Defaults to 2.\n",
    "\n",
    "    Returns:\n",
    "        res (array): matrix of dimensions (len(results), 2**nqubits) containing the\n",
    "                    probabilities with which each bitstring was found for each circuit.\n",
    "    \"\"\"\n",
    "    res = np.zeros((len(results), 2**nqubits))\n",
    "    basis_elements_dict = get_basis_elements_dict(nqubits)\n",
    "    for i, result in enumerate(results):\n",
    "        for key, val in result[\"probabilities\"].items():\n",
    "            res[i, basis_elements_dict[key]] = val\n",
    "    return res"
   ]
  },
  {
   "cell_type": "markdown",
   "metadata": {
    "id": "FKkiErXRG_jw"
   },
   "source": [
    "### Process real data"
   ]
  },
  {
   "cell_type": "code",
   "execution_count": null,
   "metadata": {
    "id": "r5OaulDwG_jx"
   },
   "outputs": [],
   "source": [
    "## retrieve data\n",
    "results = api.get_result(result_id)\n",
    "data_probabilities = process_returned_dataformat(results, nqubits=2)\n",
    "## compute witness\n",
    "w1_raw, w2_raw = compute_witnesses(data_probabilities.reshape(len(THETA_VALUES), 4, 4), BELL_STATE, raw=True)\n",
    "w1_corrected, w2_corrected = compute_witnesses(\n",
    "    data_probabilities.reshape(len(THETA_VALUES), 4, 4), BELL_STATE, ea=mfidelity_qc, eb=mfidelity_qt, raw=False\n",
    ")"
   ]
  },
  {
   "cell_type": "markdown",
   "metadata": {
    "id": "OQ9fAaDwG_jy"
   },
   "source": [
    "### Run simulation, get ideal witnesses"
   ]
  },
  {
   "cell_type": "code",
   "execution_count": null,
   "metadata": {
    "colab": {
     "base_uri": "https://localhost:8080/"
    },
    "id": "RVR-zKEdG_jz",
    "outputId": "221310ab-22b9-4dc5-fadf-b73106622a5a"
   },
   "outputs": [
    {
     "name": "stderr",
     "output_type": "stream",
     "text": [
      "[Qibo 0.1.12.dev0|INFO|2024-03-04 13:01:25]: Using tensorflow backend on /device:CPU:0\n",
      "INFO:qibo.config:Using tensorflow backend on /device:CPU:0\n",
      "2024-03-04 13:01:25,286 qibo.config  INFO     Using tensorflow backend on /device:CPU:0\n"
     ]
    }
   ],
   "source": [
    "circ_list = list(np.copy(all_circuits))\n",
    "ideal_results_chsh = np.zeros((len(circ_list), 4))\n",
    "for i, c in enumerate(circ_list):\n",
    "    ideal_results_chsh[i] += c.execute().probabilities()\n",
    "\n",
    "w1_ideal, w2_ideal = compute_witnesses(\n",
    "    ideal_results_chsh.reshape(len(THETA_VALUES), 4, 4), BELL_STATE, ea=1, eb=1, raw=False\n",
    ")"
   ]
  },
  {
   "cell_type": "markdown",
   "metadata": {
    "id": "2IAgCY_JG_jz"
   },
   "source": [
    "### Get error bars"
   ]
  },
  {
   "cell_type": "code",
   "execution_count": null,
   "metadata": {
    "id": "ZZg9aOO6G_jz"
   },
   "outputs": [],
   "source": [
    "def return_mock_results(data_probabilities, ea=1, eb=1):\n",
    "    # returns simulated results using distribution from experimental results' probabilities\n",
    "    mock_results = np.empty(shape=data_probabilities.shape)\n",
    "    for i, _ in enumerate(mock_results):\n",
    "        mock_results[i] = (stats.multinomial.rvs(NUM_SHOTS, data_probabilities[i]) / NUM_SHOTS)\n",
    "\n",
    "    return list((compute_witnesses(mock_results.reshape(-1, 4, 4), BELL_STATE, ea=mfidelity_qc, eb=mfidelity_qt, raw=False) +\n",
    "            compute_witnesses(mock_results.reshape(-1, 4, 4), BELL_STATE, raw=True)))\n",
    "\n",
    "def get_err_bars(mock_results):\n",
    "    data_hist = np.stack(mock_results)\n",
    "    err_bars = np.empty(len(data_hist.T))\n",
    "    for i, hist in enumerate(data_hist.T):\n",
    "        _ , var = stats.norm.fit(hist)\n",
    "        err_bars[i] =np.sqrt(var)\n",
    "    return err_bars\n",
    "\n",
    "# generate n copies of random results\n",
    "err_w1, err_w2, err_w1_unc, err_w2_unc  = [get_err_bars(mock_results) for mock_results in zip(*[return_mock_results(data_probabilities, ea=mfidelity_qc, eb=mfidelity_qt) for _ in range(1000)])]"
   ]
  },
  {
   "cell_type": "markdown",
   "metadata": {
    "id": "DcGo5UgOG_j0"
   },
   "source": [
    "### Plot results"
   ]
  },
  {
   "cell_type": "code",
   "execution_count": null,
   "metadata": {
    "colab": {
     "base_uri": "https://localhost:8080/",
     "height": 612
    },
    "id": "wsH-eNFpG_j0",
    "outputId": "d4754972-b49c-41fb-d9d6-b864a8de1648"
   },
   "outputs": [
    {
     "data": {
      "image/png": "[encoded data removed]",
      "text/plain": [
       "<Figure size 1000x600 with 1 Axes>"
      ]
     },
     "metadata": {},
     "output_type": "display_data"
    }
   ],
   "source": [
    "matplotlib.rcParams.update({'font.size': 14})\n",
    "\n",
    "fname = f\"chsh_{CONTROL_QUBIT}_{TARGET_QUBIT}_{BELL_STATE}_nshots{NUM_SHOTS}_jobid{result_id}.png\"\n",
    "savefig = False\n",
    "bell_names = {\"phi_plus\": \"|$\\\\Phi^+\\\\rangle$\", \"phi_minus\": \"|$\\\\Phi^-\\\\rangle$\", \"psi_plus\": \"|$\\\\Psi^+\\\\rangle$\", \"psi_minus\": \"|$\\\\Psi^- \\\\rangle$\",}\n",
    "fig, ax0 = plt.subplots(1, 1, figsize=(10, 6))\n",
    "\n",
    "# ideal\n",
    "ax0.plot(THETA_VALUES, w1_ideal, c=\"grey\", label=\"ideal\")\n",
    "# raw data\n",
    "ax0.plot(THETA_VALUES, w1_raw, \"x\", c=\"C1\", label=\"raw data\")\n",
    "ax0.errorbar(THETA_VALUES, w1_raw, err_w1_unc, capsize=3, c=\"C1\", ls=\"none\")\n",
    "# corrected data\n",
    "ax0.plot(THETA_VALUES, w1_corrected, \".\", c=\"C0\", label=\"RO corrected data\")\n",
    "ax0.errorbar(THETA_VALUES, w1_corrected, err_w1, capsize=3, c=\"C0\", ls=\"none\")\n",
    "ax0.set_ylabel(\"witness 1\")\n",
    "\n",
    "ax0.axhline(2, color=\"red\", linestyle=\"--\", label=\"classical bounds\")\n",
    "ax0.axhline(-2, color=\"red\", linestyle=\"--\")\n",
    "ax0.axhline(2 * np.sqrt(2), color=\"k\", linestyle=\"-.\", label=\"quantum bounds\")\n",
    "ax0.axhline(-2 * np.sqrt(2), color=\"k\", linestyle=\"-.\")\n",
    "ax0.set_xlabel(\"$\\\\theta$\")\n",
    "ax0.legend()\n",
    "\n",
    "fig.suptitle(f\"CHSH {bell_names[BELL_STATE]} q({CONTROL_QUBIT},{TARGET_QUBIT})\")\n",
    "if savefig:\n",
    "    fig.savefig(fname, bbox_inches=\"tight\")"
   ]
  },
  {
   "cell_type": "code",
   "execution_count": null,
   "metadata": {
    "id": "ktO0ddJYZJxO"
   },
   "outputs": [],
   "source": []
  }
 ],
 "metadata": {
  "colab": {
   "provenance": []
  },
  "kernelspec": {
   "display_name": "Python 3 (ipykernel)",
   "language": "python",
   "name": "python3"
  },
  "language_info": {
   "codemirror_mode": {
    "name": "ipython",
    "version": 3
   },
   "file_extension": ".py",
   "mimetype": "text/x-python",
   "name": "python",
   "nbconvert_exporter": "python",
   "pygments_lexer": "ipython3",
   "version": "3.10.12"
  }
 },
 "nbformat": 4,
 "nbformat_minor": 4
}
